{
 "cells": [
  {
   "cell_type": "markdown",
   "metadata": {},
   "source": [
    "# <center> Data Structures and Algorithms </center>\n",
    "<center> Andres Castellano </center>\n",
    "<center> June 11, 2020 </center>\n"
   ]
  },
  {
   "cell_type": "markdown",
   "metadata": {},
   "source": [
    "### <center> Mini Project 1 </center>"
   ]
  },
  {
   "cell_type": "code",
   "execution_count": null,
   "metadata": {},
   "outputs": [],
   "source": []
  },
  {
   "cell_type": "markdown",
   "metadata": {},
   "source": [
    "**Step 1)** Construct a text file that follows the input specifications of the problem, i.e. it can serve\n",
    "as a sample input. Specifically, you should give an input file representing a 10x10 patch. The patch\n",
    "should contain two or three islands, according to your choice. The shape of the islands can be\n",
    "arbitrary, but try to be creative. The text file should be of the form firstname-lastname.txt.\n",
    "Notice that each cell in the patch is characterized by its coordinates. The top left coordinate is\n",
    "(0,0) and coordinate (i,j) is for the cell in the i-th row and j-th column."
   ]
  },
  {
   "cell_type": "markdown",
   "metadata": {},
   "source": [
    "![alt text](andres-castellano.png \"Input File\")"
   ]
  },
  {
   "cell_type": "markdown",
   "metadata": {},
   "source": [
    "**Step 2)** Write a function that reads an input file with the given specifications and returns the list\n",
    "of the coordinates of the land points, i.e. the list of coordinates for the ‘X’ points."
   ]
  },
  {
   "cell_type": "code",
   "execution_count": 1,
   "metadata": {},
   "outputs": [],
   "source": [
    "f = open('andres-castellano.txt', 'r')"
   ]
  },
  {
   "cell_type": "code",
   "execution_count": 2,
   "metadata": {},
   "outputs": [],
   "source": [
    "def Coordinates(file):\n",
    "    \n",
    "    \n",
    "    ''' This function will return a list,\n",
    "    where each element of the list is a list itself of coordinates for each test case in the file.\n",
    "    In the case where the input file only contains 1 test case, the function will return a list of length 1.'''\n",
    "    \n",
    "    import re\n",
    "    f.seek(0)\n",
    "    coor = []\n",
    "    \n",
    "    num_cases = int(f.readlines(1)[0][0])\n",
    "    print(\"Number of test cases is: {} \\n\".format(num_cases))\n",
    "    \n",
    "    \n",
    "    for case in range(num_cases):\n",
    "        print('For test case {} ... '.format(case+1))\n",
    "        \n",
    "        dims = re.findall('\\d+', f.readlines(1)[0])\n",
    "        i = int(dims[0])\n",
    "        j = int(dims[1])\n",
    "        case_coor = []\n",
    "        \n",
    "        print('Dimensions are {0} by {1} \\n'.format(i,j))\n",
    "        \n",
    "        for ith in range(i):\n",
    "            line = f.readlines(1)[0]\n",
    "            for jth in range(j):\n",
    "                if line[jth] == \"x\":\n",
    "                    #print(ith+1,jth+1)\n",
    "                    case_coor.append((ith+1,jth+1))\n",
    "        #print(case_coor)\n",
    "        coor.append(case_coor)\n",
    "        \n",
    "    return coor\n",
    "                    \n",
    "            \n",
    "                \n",
    "                "
   ]
  },
  {
   "cell_type": "code",
   "execution_count": 3,
   "metadata": {},
   "outputs": [
    {
     "name": "stdout",
     "output_type": "stream",
     "text": [
      "Number of test cases is: 2 \n",
      "\n",
      "For test case 1 ... \n",
      "Dimensions are 10 by 10 \n",
      "\n",
      "For test case 2 ... \n",
      "Dimensions are 20 by 20 \n",
      "\n"
     ]
    },
    {
     "data": {
      "text/plain": [
       "[[(2, 3),\n",
       "  (2, 8),\n",
       "  (4, 5),\n",
       "  (4, 6),\n",
       "  (5, 2),\n",
       "  (5, 9),\n",
       "  (6, 3),\n",
       "  (6, 8),\n",
       "  (7, 4),\n",
       "  (7, 7),\n",
       "  (8, 5),\n",
       "  (8, 6),\n",
       "  (9, 9)],\n",
       " [(3, 10),\n",
       "  (3, 11),\n",
       "  (3, 12),\n",
       "  (3, 13),\n",
       "  (4, 10),\n",
       "  (4, 11),\n",
       "  (4, 12),\n",
       "  (4, 13),\n",
       "  (5, 12),\n",
       "  (5, 13),\n",
       "  (6, 12),\n",
       "  (6, 13),\n",
       "  (7, 3),\n",
       "  (7, 4),\n",
       "  (7, 12),\n",
       "  (7, 13),\n",
       "  (8, 3),\n",
       "  (8, 4),\n",
       "  (8, 12),\n",
       "  (8, 13),\n",
       "  (9, 3),\n",
       "  (9, 4),\n",
       "  (9, 5),\n",
       "  (9, 6),\n",
       "  (9, 16),\n",
       "  (9, 17),\n",
       "  (10, 3),\n",
       "  (10, 4),\n",
       "  (10, 5),\n",
       "  (10, 6),\n",
       "  (10, 16),\n",
       "  (10, 17),\n",
       "  (11, 3),\n",
       "  (11, 4),\n",
       "  (11, 14),\n",
       "  (11, 15),\n",
       "  (11, 16),\n",
       "  (11, 17),\n",
       "  (12, 3),\n",
       "  (12, 4),\n",
       "  (12, 14),\n",
       "  (12, 15),\n",
       "  (12, 16),\n",
       "  (12, 17),\n",
       "  (13, 14),\n",
       "  (13, 15),\n",
       "  (14, 14),\n",
       "  (14, 15),\n",
       "  (15, 7),\n",
       "  (15, 8),\n",
       "  (16, 7),\n",
       "  (16, 8),\n",
       "  (17, 3),\n",
       "  (17, 4),\n",
       "  (17, 7),\n",
       "  (17, 8),\n",
       "  (17, 11),\n",
       "  (17, 12),\n",
       "  (17, 16),\n",
       "  (17, 17),\n",
       "  (17, 18),\n",
       "  (17, 19),\n",
       "  (18, 3),\n",
       "  (18, 4),\n",
       "  (18, 7),\n",
       "  (18, 8),\n",
       "  (18, 11),\n",
       "  (18, 12),\n",
       "  (18, 16),\n",
       "  (18, 17),\n",
       "  (18, 18),\n",
       "  (18, 19),\n",
       "  (19, 3),\n",
       "  (19, 4),\n",
       "  (19, 7),\n",
       "  (19, 8),\n",
       "  (19, 11),\n",
       "  (19, 12),\n",
       "  (19, 16),\n",
       "  (19, 17),\n",
       "  (19, 18),\n",
       "  (19, 19)]]"
      ]
     },
     "execution_count": 3,
     "metadata": {},
     "output_type": "execute_result"
    }
   ],
   "source": [
    "Coordinates(f)"
   ]
  },
  {
   "cell_type": "markdown",
   "metadata": {},
   "source": [
    "**Step 3)** Write a function CoordinateToNumber(i, j, m, n) that takes a coordinate (i, j) and\n",
    "maps it to a unique number t in [0, mn − 1], which is then returned by the function.\n",
    "\n",
    "I'm assuming this step is directing us to create a function that takes a list of coordinates and generates unique identifiers for each coordinate within the list."
   ]
  },
  {
   "cell_type": "code",
   "execution_count": 66,
   "metadata": {},
   "outputs": [],
   "source": [
    "def CoordinateToNumber(coordinate_list=list,m=int,n=int):\n",
    "    '''Returns a list for a list of coordinates as input,\n",
    "    returns a tuple for a coordinate as input'''\n",
    "    global T\n",
    "    if len(coordinate_list) > m*n:\n",
    "        raise Exception('Stop, too many coordinates for mXn')\n",
    "    if type(coordinate_list) is tuple:\n",
    "        T = {0 : coordinate_list}\n",
    "    else:\n",
    "        for value in enumerate(coordinate_list):\n",
    "            T = dict(val for val in enumerate(coordinate_list))\n",
    "    return T\n",
    "        "
   ]
  },
  {
   "cell_type": "code",
   "execution_count": 40,
   "metadata": {},
   "outputs": [
    {
     "name": "stdout",
     "output_type": "stream",
     "text": [
      "Number of test cases is: 2 \n",
      "\n",
      "For test case 1 ... \n",
      "Dimensions are 10 by 10 \n",
      "\n",
      "For test case 2 ... \n",
      "Dimensions are 20 by 20 \n",
      "\n"
     ]
    },
    {
     "data": {
      "text/plain": [
       "{0: (2, 3),\n",
       " 1: (2, 8),\n",
       " 2: (4, 5),\n",
       " 3: (4, 6),\n",
       " 4: (5, 2),\n",
       " 5: (5, 9),\n",
       " 6: (6, 3),\n",
       " 7: (6, 8),\n",
       " 8: (7, 4),\n",
       " 9: (7, 7),\n",
       " 10: (8, 5),\n",
       " 11: (8, 6),\n",
       " 12: (9, 9)}"
      ]
     },
     "execution_count": 40,
     "metadata": {},
     "output_type": "execute_result"
    }
   ],
   "source": [
    "CoordinateToNumber(Coordinates(f)[0],10,10)"
   ]
  },
  {
   "cell_type": "markdown",
   "metadata": {},
   "source": [
    "**Step 4)** Write a function NumberToCoordinate(t, m, n) that takes a number t and returns the\n",
    "corresponding coordinate. This function must be the inverse of CoordinateToNumber. That\n",
    "is, for all i, j, m, n we must have\n",
    "\n",
    "NumberToCoordinate(CoordinateToNumber(i, j, m, n), m, n) = (i, j)\n",
    "\n",
    "The two steps above mean that besides its coordinates, each cell has its own unique identity\n",
    "number in [0, mn − 1]"
   ]
  },
  {
   "cell_type": "code",
   "execution_count": 67,
   "metadata": {},
   "outputs": [],
   "source": [
    "def NumberToCoordinate(L=list,m=int,n=int):\n",
    "    '''Returns a list size n of tuples for a list of inputs of size n'''\n",
    "    coordinate_list = []\n",
    "    for key in L:\n",
    "        coordinate_list.append(T.get(key))\n",
    "    return coordinate_list"
   ]
  },
  {
   "cell_type": "code",
   "execution_count": 49,
   "metadata": {},
   "outputs": [
    {
     "name": "stdout",
     "output_type": "stream",
     "text": [
      "Number of test cases is: 2 \n",
      "\n",
      "For test case 1 ... \n",
      "Dimensions are 10 by 10 \n",
      "\n",
      "For test case 2 ... \n",
      "Dimensions are 20 by 20 \n",
      "\n"
     ]
    },
    {
     "data": {
      "text/plain": [
       "[(2, 3),\n",
       " (2, 8),\n",
       " (4, 5),\n",
       " (4, 6),\n",
       " (5, 2),\n",
       " (5, 9),\n",
       " (6, 3),\n",
       " (6, 8),\n",
       " (7, 4),\n",
       " (7, 7),\n",
       " (8, 5),\n",
       " (8, 6),\n",
       " (9, 9)]"
      ]
     },
     "execution_count": 49,
     "metadata": {},
     "output_type": "execute_result"
    }
   ],
   "source": [
    "NumberToCoordinate(CoordinateToNumber(Coordinates(f)[0],10,10),10,10)"
   ]
  },
  {
   "cell_type": "markdown",
   "metadata": {},
   "source": [
    "### Note 1:\n",
    "\n",
    "The functions as defined above take as inputs iterable objects as seen above. However. All functions can also be called on specific coordinates.\n",
    "\n",
    "For example:\n",
    "\n",
    "The below code will call the identifier and coordinates of one single cell from test case 1.\n",
    "\n",
    "\n"
   ]
  },
  {
   "cell_type": "code",
   "execution_count": 43,
   "metadata": {},
   "outputs": [
    {
     "name": "stdout",
     "output_type": "stream",
     "text": [
      "Number of test cases is: 2 \n",
      "\n",
      "For test case 1 ... \n",
      "Dimensions are 10 by 10 \n",
      "\n",
      "For test case 2 ... \n",
      "Dimensions are 20 by 20 \n",
      "\n"
     ]
    },
    {
     "data": {
      "text/plain": [
       "(5, 9)"
      ]
     },
     "execution_count": 43,
     "metadata": {},
     "output_type": "execute_result"
    }
   ],
   "source": [
    "Coordinates(f)[0][5] # Gets the 6th coordinate of test case 1.\n"
   ]
  },
  {
   "cell_type": "code",
   "execution_count": 44,
   "metadata": {},
   "outputs": [
    {
     "name": "stdout",
     "output_type": "stream",
     "text": [
      "Number of test cases is: 2 \n",
      "\n",
      "For test case 1 ... \n",
      "Dimensions are 10 by 10 \n",
      "\n",
      "For test case 2 ... \n",
      "Dimensions are 20 by 20 \n",
      "\n"
     ]
    },
    {
     "data": {
      "text/plain": [
       "{0: (5, 9)}"
      ]
     },
     "execution_count": 44,
     "metadata": {},
     "output_type": "execute_result"
    }
   ],
   "source": [
    "CoordinateToNumber(Coordinates(f)[0][5],10,10) # Gets the identifier and coordinates for the 6th coordinate of case 1."
   ]
  },
  {
   "cell_type": "code",
   "execution_count": 55,
   "metadata": {},
   "outputs": [
    {
     "name": "stdout",
     "output_type": "stream",
     "text": [
      "Number of test cases is: 2 \n",
      "\n",
      "For test case 1 ... \n",
      "Dimensions are 10 by 10 \n",
      "\n",
      "For test case 2 ... \n",
      "Dimensions are 20 by 20 \n",
      "\n"
     ]
    },
    {
     "data": {
      "text/plain": [
       "[(5, 9)]"
      ]
     },
     "execution_count": 55,
     "metadata": {},
     "output_type": "execute_result"
    }
   ],
   "source": [
    "NumberToCoordinate(CoordinateToNumber(Coordinates(f)[0][5],10,10),10,10) \n"
   ]
  },
  {
   "cell_type": "markdown",
   "metadata": {},
   "source": [
    "The last line of code gets the coordinate from the correspondng identifier given to the coordinate 6 of test case 1.\n",
    "Note that Coordinates(f)[0][5] and NumberToCoordinate(CoordinateToNumber(Coordinates(f)[0][5])) should return\n",
    "the same coordinate and it does.\n",
    "\n",
    "**Step 5)** Write a function Distance(t1, t2), where t1 and t2 are the identity numbers of two cells,\n",
    "and the output is the distance between them. The distance is the minimum number of connected\n",
    "cells that one has to traverse to go from t1 to t2. (Hint: Use function NumberToCoordinate for\n",
    "this)"
   ]
  },
  {
   "cell_type": "code",
   "execution_count": 58,
   "metadata": {},
   "outputs": [
    {
     "name": "stdout",
     "output_type": "stream",
     "text": [
      "Number of test cases is: 2 \n",
      "\n",
      "For test case 1 ... \n",
      "Dimensions are 10 by 10 \n",
      "\n",
      "For test case 2 ... \n",
      "Dimensions are 20 by 20 \n",
      "\n"
     ]
    },
    {
     "data": {
      "text/plain": [
       "{0: (2, 3),\n",
       " 1: (2, 8),\n",
       " 2: (4, 5),\n",
       " 3: (4, 6),\n",
       " 4: (5, 2),\n",
       " 5: (5, 9),\n",
       " 6: (6, 3),\n",
       " 7: (6, 8),\n",
       " 8: (7, 4),\n",
       " 9: (7, 7),\n",
       " 10: (8, 5),\n",
       " 11: (8, 6),\n",
       " 12: (9, 9)}"
      ]
     },
     "execution_count": 58,
     "metadata": {},
     "output_type": "execute_result"
    }
   ],
   "source": [
    "CoordinateToNumber(Coordinates(f)[0],10,10)"
   ]
  },
  {
   "cell_type": "code",
   "execution_count": 68,
   "metadata": {},
   "outputs": [
    {
     "data": {
      "text/plain": [
       "True"
      ]
     },
     "execution_count": 68,
     "metadata": {},
     "output_type": "execute_result"
    }
   ],
   "source": [
    "def Distance(t1=int,t2=int):\n",
    "    '''Returns a scalar representing the manhattan distance between two coordinates representing input identifiers t1 and t2. '''\n",
    "    t1 = T[t1]\n",
    "    t2 = T[t2]\n",
    "    \n",
    "    distance = abs(t2[1]-t1[1]) + abs(t2[0]-t1[0])\n",
    "    \n",
    "    return distance\n",
    "\n",
    "Distance(0,1) == abs(8-3)+abs(2-2)"
   ]
  },
  {
   "cell_type": "code",
   "execution_count": null,
   "metadata": {},
   "outputs": [],
   "source": []
  },
  {
   "cell_type": "code",
   "execution_count": null,
   "metadata": {},
   "outputs": [],
   "source": []
  }
 ],
 "metadata": {
  "kernelspec": {
   "display_name": "Python 3",
   "language": "python",
   "name": "python3"
  },
  "language_info": {
   "codemirror_mode": {
    "name": "ipython",
    "version": 3
   },
   "file_extension": ".py",
   "mimetype": "text/x-python",
   "name": "python",
   "nbconvert_exporter": "python",
   "pygments_lexer": "ipython3",
   "version": "3.7.6"
  }
 },
 "nbformat": 4,
 "nbformat_minor": 4
}
