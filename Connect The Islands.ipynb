{
 "cells": [
  {
   "cell_type": "markdown",
   "metadata": {},
   "source": [
    "# <center> Data Structures and Algorithms </center>\n",
    "<center> Andres Castellano </center>\n",
    "<center> June 11, 2020 </center>\n"
   ]
  },
  {
   "cell_type": "markdown",
   "metadata": {},
   "source": [
    "### <center> Mini Project 1 </center>"
   ]
  },
  {
   "cell_type": "code",
   "execution_count": null,
   "metadata": {},
   "outputs": [],
   "source": []
  },
  {
   "cell_type": "markdown",
   "metadata": {},
   "source": [
    "**Step 1)** Construct a text file that follows the input specifications of the problem, i.e. it can serve\n",
    "as a sample input. Specifically, you should give an input file representing a 10x10 patch. The patch\n",
    "should contain two or three islands, according to your choice. The shape of the islands can be\n",
    "arbitrary, but try to be creative. The text file should be of the form firstname-lastname.txt.\n",
    "Notice that each cell in the patch is characterized by its coordinates. The top left coordinate is\n",
    "(0,0) and coordinate (i,j) is for the cell in the i-th row and j-th column."
   ]
  },
  {
   "cell_type": "markdown",
   "metadata": {},
   "source": [
    "![alt text](andres-castellano.png \"Input File\")"
   ]
  },
  {
   "cell_type": "markdown",
   "metadata": {},
   "source": [
    "**Step 2)** Write a function that reads an input file with the given specifications and returns the list\n",
    "of the coordinates of the land points, i.e. the list of coordinates for the ‘X’ points."
   ]
  },
  {
   "cell_type": "code",
   "execution_count": 1,
   "metadata": {},
   "outputs": [],
   "source": [
    "f = open('andres-castellano.txt', 'r')"
   ]
  },
  {
   "cell_type": "code",
   "execution_count": 2,
   "metadata": {},
   "outputs": [],
   "source": [
    "def Coordinates(file):\n",
    "    \n",
    "    \n",
    "    ''' This function will return a list,\n",
    "    where each element of the list is a list itself of coordinates for each test case in the file.\n",
    "    In the case where the input file only contains 1 test case, the function will return a list of length 1.'''\n",
    "    \n",
    "    import re\n",
    "    f.seek(0)\n",
    "    coor = []\n",
    "    \n",
    "    num_cases = int(f.readlines(1)[0][0])\n",
    "    print(\"Number of test cases is: {} \\n\".format(num_cases))\n",
    "    \n",
    "    \n",
    "    for case in range(num_cases):\n",
    "        print('For test case {} ... '.format(case+1))\n",
    "        \n",
    "        dims = re.findall('\\d+', f.readlines(1)[0])\n",
    "        i = int(dims[0])\n",
    "        j = int(dims[1])\n",
    "        case_coor = []\n",
    "        \n",
    "        print('Dimensions are {0} by {1} \\n'.format(i,j))\n",
    "        \n",
    "        for ith in range(i):\n",
    "            line = f.readlines(1)[0]\n",
    "            for jth in range(j):\n",
    "                if line[jth] == \"x\":\n",
    "                    #print(ith+1,jth+1)\n",
    "                    case_coor.append((ith+1,jth+1))\n",
    "        #print(case_coor)\n",
    "        coor.append(case_coor)\n",
    "        \n",
    "    return coor\n",
    "                    \n",
    "            \n",
    "                \n",
    "                "
   ]
  },
  {
   "cell_type": "code",
   "execution_count": 3,
   "metadata": {},
   "outputs": [
    {
     "name": "stdout",
     "output_type": "stream",
     "text": [
      "Number of test cases is: 2 \n",
      "\n",
      "For test case 1 ... \n",
      "Dimensions are 10 by 10 \n",
      "\n",
      "For test case 2 ... \n",
      "Dimensions are 20 by 20 \n",
      "\n"
     ]
    },
    {
     "data": {
      "text/plain": [
       "[[(2, 3),\n",
       "  (2, 8),\n",
       "  (4, 5),\n",
       "  (4, 6),\n",
       "  (5, 2),\n",
       "  (5, 9),\n",
       "  (6, 3),\n",
       "  (6, 8),\n",
       "  (7, 4),\n",
       "  (7, 7),\n",
       "  (8, 5),\n",
       "  (8, 6),\n",
       "  (9, 9)],\n",
       " [(3, 10),\n",
       "  (3, 11),\n",
       "  (3, 12),\n",
       "  (3, 13),\n",
       "  (4, 10),\n",
       "  (4, 11),\n",
       "  (4, 12),\n",
       "  (4, 13),\n",
       "  (5, 12),\n",
       "  (5, 13),\n",
       "  (6, 12),\n",
       "  (6, 13),\n",
       "  (7, 3),\n",
       "  (7, 4),\n",
       "  (7, 12),\n",
       "  (7, 13),\n",
       "  (8, 3),\n",
       "  (8, 4),\n",
       "  (8, 12),\n",
       "  (8, 13),\n",
       "  (9, 3),\n",
       "  (9, 4),\n",
       "  (9, 5),\n",
       "  (9, 6),\n",
       "  (9, 16),\n",
       "  (9, 17),\n",
       "  (10, 3),\n",
       "  (10, 4),\n",
       "  (10, 5),\n",
       "  (10, 6),\n",
       "  (10, 16),\n",
       "  (10, 17),\n",
       "  (11, 3),\n",
       "  (11, 4),\n",
       "  (11, 14),\n",
       "  (11, 15),\n",
       "  (11, 16),\n",
       "  (11, 17),\n",
       "  (12, 3),\n",
       "  (12, 4),\n",
       "  (12, 14),\n",
       "  (12, 15),\n",
       "  (12, 16),\n",
       "  (12, 17),\n",
       "  (13, 14),\n",
       "  (13, 15),\n",
       "  (14, 14),\n",
       "  (14, 15),\n",
       "  (15, 7),\n",
       "  (15, 8),\n",
       "  (16, 7),\n",
       "  (16, 8),\n",
       "  (17, 3),\n",
       "  (17, 4),\n",
       "  (17, 7),\n",
       "  (17, 8),\n",
       "  (17, 11),\n",
       "  (17, 12),\n",
       "  (17, 16),\n",
       "  (17, 17),\n",
       "  (17, 18),\n",
       "  (17, 19),\n",
       "  (18, 3),\n",
       "  (18, 4),\n",
       "  (18, 7),\n",
       "  (18, 8),\n",
       "  (18, 11),\n",
       "  (18, 12),\n",
       "  (18, 16),\n",
       "  (18, 17),\n",
       "  (18, 18),\n",
       "  (18, 19),\n",
       "  (19, 3),\n",
       "  (19, 4),\n",
       "  (19, 7),\n",
       "  (19, 8),\n",
       "  (19, 11),\n",
       "  (19, 12),\n",
       "  (19, 16),\n",
       "  (19, 17),\n",
       "  (19, 18),\n",
       "  (19, 19)]]"
      ]
     },
     "execution_count": 3,
     "metadata": {},
     "output_type": "execute_result"
    }
   ],
   "source": [
    "Coordinates(f)"
   ]
  },
  {
   "cell_type": "markdown",
   "metadata": {},
   "source": [
    "**Step 3)** Write a function CoordinateToNumber(i, j, m, n) that takes a coordinate (i, j) and\n",
    "maps it to a unique number t in [0, mn − 1], which is then returned by the function.\n",
    "\n",
    "I'm assuming this step is directing us to create a function that takes a list of coordinates and generates unique identifiers for each coordinate within the list."
   ]
  },
  {
   "cell_type": "code",
   "execution_count": 66,
   "metadata": {},
   "outputs": [],
   "source": [
    "def CoordinateToNumber(coordinate_list=list,m=int,n=int):\n",
    "    '''Returns a list for a list of coordinates as input,\n",
    "    returns a tuple for a coordinate as input'''\n",
    "    global T\n",
    "    if len(coordinate_list) > m*n:\n",
    "        raise Exception('Stop, too many coordinates for mXn')\n",
    "    if type(coordinate_list) is tuple:\n",
    "        T = {0 : coordinate_list}\n",
    "    else:\n",
    "        for value in enumerate(coordinate_list):\n",
    "            T = dict(val for val in enumerate(coordinate_list))\n",
    "    return T\n",
    "        "
   ]
  },
  {
   "cell_type": "code",
   "execution_count": 170,
   "metadata": {},
   "outputs": [
    {
     "name": "stdout",
     "output_type": "stream",
     "text": [
      "Number of test cases is: 2 \n",
      "\n",
      "For test case 1 ... \n",
      "Dimensions are 10 by 10 \n",
      "\n",
      "For test case 2 ... \n",
      "Dimensions are 20 by 20 \n",
      "\n"
     ]
    },
    {
     "data": {
      "text/plain": [
       "{0: (2, 3),\n",
       " 1: (2, 8),\n",
       " 2: (4, 5),\n",
       " 3: (4, 6),\n",
       " 4: (5, 2),\n",
       " 5: (5, 9),\n",
       " 6: (6, 3),\n",
       " 7: (6, 8),\n",
       " 8: (7, 4),\n",
       " 9: (7, 7),\n",
       " 10: (8, 5),\n",
       " 11: (8, 6),\n",
       " 12: (9, 9)}"
      ]
     },
     "execution_count": 170,
     "metadata": {},
     "output_type": "execute_result"
    }
   ],
   "source": [
    "CoordinateToNumber(Coordinates(f)[0],10,10)"
   ]
  },
  {
   "cell_type": "markdown",
   "metadata": {},
   "source": [
    "**Step 4)** Write a function NumberToCoordinate(t, m, n) that takes a number t and returns the\n",
    "corresponding coordinate. This function must be the inverse of CoordinateToNumber. That\n",
    "is, for all i, j, m, n we must have\n",
    "\n",
    "NumberToCoordinate(CoordinateToNumber(i, j, m, n), m, n) = (i, j)\n",
    "\n",
    "The two steps above mean that besides its coordinates, each cell has its own unique identity\n",
    "number in [0, mn − 1]"
   ]
  },
  {
   "cell_type": "code",
   "execution_count": 67,
   "metadata": {},
   "outputs": [],
   "source": [
    "def NumberToCoordinate(L=list,m=int,n=int):\n",
    "    '''Returns a list size n of tuples for a list of inputs of size n'''\n",
    "    coordinate_list = []\n",
    "    for key in L:\n",
    "        coordinate_list.append(T.get(key))\n",
    "    return coordinate_list"
   ]
  },
  {
   "cell_type": "code",
   "execution_count": 171,
   "metadata": {},
   "outputs": [
    {
     "name": "stdout",
     "output_type": "stream",
     "text": [
      "Number of test cases is: 2 \n",
      "\n",
      "For test case 1 ... \n",
      "Dimensions are 10 by 10 \n",
      "\n",
      "For test case 2 ... \n",
      "Dimensions are 20 by 20 \n",
      "\n"
     ]
    },
    {
     "data": {
      "text/plain": [
       "[(2, 3),\n",
       " (2, 8),\n",
       " (4, 5),\n",
       " (4, 6),\n",
       " (5, 2),\n",
       " (5, 9),\n",
       " (6, 3),\n",
       " (6, 8),\n",
       " (7, 4),\n",
       " (7, 7),\n",
       " (8, 5),\n",
       " (8, 6),\n",
       " (9, 9)]"
      ]
     },
     "execution_count": 171,
     "metadata": {},
     "output_type": "execute_result"
    }
   ],
   "source": [
    "NumberToCoordinate(CoordinateToNumber(Coordinates(f)[0],10,10),10,10)"
   ]
  },
  {
   "cell_type": "markdown",
   "metadata": {},
   "source": [
    "### Note 1:\n",
    "\n",
    "The functions as defined above take as inputs iterable objects as seen above. However. All functions can also be called on specific coordinates.\n",
    "\n",
    "For example:\n",
    "\n",
    "The below code will call the identifier and coordinates of one single cell from test case 1.\n",
    "\n",
    "\n"
   ]
  },
  {
   "cell_type": "code",
   "execution_count": 43,
   "metadata": {},
   "outputs": [
    {
     "name": "stdout",
     "output_type": "stream",
     "text": [
      "Number of test cases is: 2 \n",
      "\n",
      "For test case 1 ... \n",
      "Dimensions are 10 by 10 \n",
      "\n",
      "For test case 2 ... \n",
      "Dimensions are 20 by 20 \n",
      "\n"
     ]
    },
    {
     "data": {
      "text/plain": [
       "(5, 9)"
      ]
     },
     "execution_count": 43,
     "metadata": {},
     "output_type": "execute_result"
    }
   ],
   "source": [
    "Coordinates(f)[0][5] # Gets the 6th coordinate of test case 1.\n"
   ]
  },
  {
   "cell_type": "code",
   "execution_count": 44,
   "metadata": {},
   "outputs": [
    {
     "name": "stdout",
     "output_type": "stream",
     "text": [
      "Number of test cases is: 2 \n",
      "\n",
      "For test case 1 ... \n",
      "Dimensions are 10 by 10 \n",
      "\n",
      "For test case 2 ... \n",
      "Dimensions are 20 by 20 \n",
      "\n"
     ]
    },
    {
     "data": {
      "text/plain": [
       "{0: (5, 9)}"
      ]
     },
     "execution_count": 44,
     "metadata": {},
     "output_type": "execute_result"
    }
   ],
   "source": [
    "CoordinateToNumber(Coordinates(f)[0][5],10,10) # Gets the identifier and coordinates for the 6th coordinate of case 1."
   ]
  },
  {
   "cell_type": "code",
   "execution_count": 55,
   "metadata": {},
   "outputs": [
    {
     "name": "stdout",
     "output_type": "stream",
     "text": [
      "Number of test cases is: 2 \n",
      "\n",
      "For test case 1 ... \n",
      "Dimensions are 10 by 10 \n",
      "\n",
      "For test case 2 ... \n",
      "Dimensions are 20 by 20 \n",
      "\n"
     ]
    },
    {
     "data": {
      "text/plain": [
       "[(5, 9)]"
      ]
     },
     "execution_count": 55,
     "metadata": {},
     "output_type": "execute_result"
    }
   ],
   "source": [
    "NumberToCoordinate(CoordinateToNumber(Coordinates(f)[0][5],10,10),10,10) \n"
   ]
  },
  {
   "cell_type": "markdown",
   "metadata": {},
   "source": [
    "The last line of code gets the coordinate from the correspondng identifier given to the coordinate 6 of test case 1.\n",
    "Note that Coordinates(f)[0][5] and NumberToCoordinate(CoordinateToNumber(Coordinates(f)[0][5])) should return\n",
    "the same coordinate and it does.\n",
    "\n",
    "**Step 5)** Write a function Distance(t1, t2), where t1 and t2 are the identity numbers of two cells,\n",
    "and the output is the distance between them. The distance is the minimum number of connected\n",
    "cells that one has to traverse to go from t1 to t2. (Hint: Use function NumberToCoordinate for\n",
    "this)"
   ]
  },
  {
   "cell_type": "code",
   "execution_count": 58,
   "metadata": {},
   "outputs": [
    {
     "name": "stdout",
     "output_type": "stream",
     "text": [
      "Number of test cases is: 2 \n",
      "\n",
      "For test case 1 ... \n",
      "Dimensions are 10 by 10 \n",
      "\n",
      "For test case 2 ... \n",
      "Dimensions are 20 by 20 \n",
      "\n"
     ]
    },
    {
     "data": {
      "text/plain": [
       "{0: (2, 3),\n",
       " 1: (2, 8),\n",
       " 2: (4, 5),\n",
       " 3: (4, 6),\n",
       " 4: (5, 2),\n",
       " 5: (5, 9),\n",
       " 6: (6, 3),\n",
       " 7: (6, 8),\n",
       " 8: (7, 4),\n",
       " 9: (7, 7),\n",
       " 10: (8, 5),\n",
       " 11: (8, 6),\n",
       " 12: (9, 9)}"
      ]
     },
     "execution_count": 58,
     "metadata": {},
     "output_type": "execute_result"
    }
   ],
   "source": [
    "CoordinateToNumber(Coordinates(f)[0],10,10)"
   ]
  },
  {
   "cell_type": "code",
   "execution_count": 69,
   "metadata": {},
   "outputs": [
    {
     "data": {
      "text/plain": [
       "True"
      ]
     },
     "execution_count": 69,
     "metadata": {},
     "output_type": "execute_result"
    }
   ],
   "source": [
    "def Distance(t1=int,t2=int):\n",
    "    '''Returns a scalar representing the manhattan distance between two coordinates representing input identifiers t1 and t2. '''\n",
    "    t1 = T[t1]\n",
    "    t2 = T[t2]\n",
    "    \n",
    "    distance = abs(t2[1]-t1[1]) + abs(t2[0]-t1[0])\n",
    "    \n",
    "    return distance\n",
    "\n",
    "Distance(0,1) == abs(8-3)+abs(2-2)"
   ]
  },
  {
   "cell_type": "markdown",
   "metadata": {},
   "source": [
    "\n",
    "\n",
    "Recall that in **Step 2**  we wrote a function for finding the list of land cells. Let’s call\n",
    "this function **FindLandCells**, and its output **LandCell_List**. This list of land cells can look\n",
    "like this:\n",
    "\n",
    "LandCell List = [10, 11, 25, 12, 50, 51, 80, 81, 82]\n",
    "(this is only an example, it does not correspond to some specific input).\n"
   ]
  },
  {
   "cell_type": "code",
   "execution_count": 594,
   "metadata": {},
   "outputs": [
    {
     "name": "stdout",
     "output_type": "stream",
     "text": [
      "Number of test cases is: 2 \n",
      "\n",
      "For test case 1 ... \n",
      "Dimensions are 10 by 10 \n",
      "\n",
      "For test case 2 ... \n",
      "Dimensions are 20 by 20 \n",
      "\n"
     ]
    },
    {
     "data": {
      "text/plain": [
       "dict_keys([0, 1, 2, 3, 4, 5, 6, 7, 8, 9, 10, 11, 12, 13, 14, 15, 16, 17, 18, 19, 20, 21, 22, 23, 24, 25, 26, 27, 28, 29, 30, 31, 32, 33, 34, 35, 36, 37, 38, 39, 40, 41, 42, 43, 44, 45, 46, 47, 48, 49, 50, 51, 52, 53, 54, 55, 56, 57, 58, 59, 60, 61, 62, 63, 64, 65, 66, 67, 68, 69, 70, 71, 72, 73, 74, 75, 76, 77, 78, 79, 80, 81])"
      ]
     },
     "execution_count": 594,
     "metadata": {},
     "output_type": "execute_result"
    }
   ],
   "source": [
    "FindLandCells = CoordinateToNumber\n",
    "LandCell_List = CoordinateToNumber(Coordinates(f)[1],20,20)\n",
    "LandCell_List.keys()"
   ]
  },
  {
   "cell_type": "markdown",
   "metadata": {},
   "source": [
    "Now this lists can be further broken into islands. So, we have something that looks like this:\n",
    "\n",
    "Island_List = [[10, 11, 12], [25], [50, 51], [80, 81, 82]]\n",
    "\n",
    "You see how all the cells from the original list appear in the second data structure, which is a list\n",
    "of lists, with each list being an island. Observe how cells belonging to the same island (e.g. cell\n",
    "12), can be mixed up with other islands in LandCell List. In other words, one island’s cells do\n",
    "not have to be in contiguous positions in LandCell List.\n",
    "\n",
    "In this section we will write functions to help find the list of islands.\n",
    "\n",
    "**Step 6)** Write a function GenerateNeighbors(t1, n, m), that takes one cell number t1 (and also\n",
    "the dimensions), and returns the numbers for the neighbors of t1 in the grid. Notice that t1 can\n",
    "have 2, 3 or 4 neighbors."
   ]
  },
  {
   "cell_type": "code",
   "execution_count": 589,
   "metadata": {},
   "outputs": [
    {
     "name": "stdout",
     "output_type": "stream",
     "text": [
      "Number of test cases is: 2 \n",
      "\n",
      "For test case 1 ... \n",
      "Dimensions are 10 by 10 \n",
      "\n",
      "For test case 2 ... \n",
      "Dimensions are 20 by 20 \n",
      "\n"
     ]
    },
    {
     "data": {
      "text/plain": [
       "{0: (2, 3),\n",
       " 1: (2, 8),\n",
       " 2: (4, 5),\n",
       " 3: (4, 6),\n",
       " 4: (5, 2),\n",
       " 5: (5, 9),\n",
       " 6: (6, 3),\n",
       " 7: (6, 8),\n",
       " 8: (7, 4),\n",
       " 9: (7, 7),\n",
       " 10: (8, 5),\n",
       " 11: (8, 6),\n",
       " 12: (9, 9)}"
      ]
     },
     "execution_count": 589,
     "metadata": {},
     "output_type": "execute_result"
    }
   ],
   "source": [
    "CoordinateToNumber(Coordinates(f)[0],10,10)"
   ]
  },
  {
   "cell_type": "code",
   "execution_count": 523,
   "metadata": {},
   "outputs": [],
   "source": [
    "def GenerateNeighbors(t1=int,m=int,n=int):\n",
    "    \n",
    "    coordinates = T[t1]\n",
    "    row_neighboors = []\n",
    "    candidates = []\n",
    "    \n",
    "    row_candidates = [(coordinates[0],coordinates[1]-1),(coordinates[0],coordinates[1]+1)]\n",
    "    [candidates.append(x) for x in row_candidates]\n",
    "    \n",
    "    \n",
    "    col_candidates = [(coordinates[0]-1,coordinates[1]),(coordinates[0]+1,coordinates[1])]\n",
    "    [candidates.append(x) for x in col_candidates]\n",
    "    \n",
    "    #return [x in T.values() for x in candidates]\n",
    "    return sum([x in T.values() for x in candidates])\n",
    "    "
   ]
  },
  {
   "cell_type": "code",
   "execution_count": 529,
   "metadata": {},
   "outputs": [
    {
     "data": {
      "text/plain": [
       "1"
      ]
     },
     "execution_count": 529,
     "metadata": {},
     "output_type": "execute_result"
    }
   ],
   "source": [
    "GenerateNeighbors(2,10,10)"
   ]
  },
  {
   "cell_type": "markdown",
   "metadata": {},
   "source": [
    "**Step 7)** Write a function ExploreIsland(t1, n, m). This function should start from cell t1,\n",
    "and construct a list of cells that are in the same island as t1. (Hint: t1 can add itself to a\n",
    "dictionary representing the island, and also its neighbors, then the neighbors should recursively\n",
    "do the the same. But when new neighbors are inserted in the dictionary, we should first check if\n",
    "they are already in it. The process should terminate when it’s not possible to add more cells to the\n",
    "dictionary, meaning that we found the island. Finally the function should return a list with the\n",
    "cells on the island)"
   ]
  },
  {
   "cell_type": "code",
   "execution_count": 648,
   "metadata": {},
   "outputs": [
    {
     "name": "stdout",
     "output_type": "stream",
     "text": [
      "Number of test cases is: 2 \n",
      "\n",
      "For test case 1 ... \n",
      "Dimensions are 10 by 10 \n",
      "\n",
      "For test case 2 ... \n",
      "Dimensions are 20 by 20 \n",
      "\n"
     ]
    },
    {
     "data": {
      "text/plain": [
       "dict_keys([0, 1, 2, 3, 4, 5, 6, 7, 8, 9, 10, 11, 12])"
      ]
     },
     "execution_count": 648,
     "metadata": {},
     "output_type": "execute_result"
    }
   ],
   "source": [
    "FindLandCells = CoordinateToNumber\n",
    "LandCell_List = CoordinateToNumber(Coordinates(f)[0],10,10)\n",
    "LandCell_List.keys()"
   ]
  },
  {
   "cell_type": "code",
   "execution_count": 660,
   "metadata": {},
   "outputs": [],
   "source": [
    "def ExploreIsland(t1=int,m=int,n=int, neighbors=[]):\n",
    "    \n",
    "    coordinates = T[t1]\n",
    "    candidates = []\n",
    "    if neighbors == []:\n",
    "        neighbors.append(t1)\n",
    "    \n",
    "    row_candidates = [(coordinates[0],coordinates[1]-1),(coordinates[0],coordinates[1]+1)]\n",
    "    [candidates.append(x) for x in row_candidates]\n",
    "    \n",
    "    \n",
    "    col_candidates = [(coordinates[0]-1,coordinates[1]),(coordinates[0]+1,coordinates[1])]\n",
    "    [candidates.append(x) for x in col_candidates]\n",
    "    #print(\"For Land number {0} Candidates are {1}\".format(t1, candidates))\n",
    "\n",
    "    for x in candidates:\n",
    "        if x in T.values():\n",
    "            for key, value in T.items():\n",
    "                if value == x:\n",
    "                    if key not in neighbors:\n",
    "                        #print(key)\n",
    "                        neighbors.append(key)\n",
    "                        print(neighbors)\n",
    "                        ExploreIsland(key,m,n,neighbors)\n",
    "                        #print(neighbors)\n",
    "                        \n",
    "                        return neighbors\n",
    "\n",
    "    return \n",
    "    #neighbors.append()"
   ]
  },
  {
   "cell_type": "code",
   "execution_count": 656,
   "metadata": {},
   "outputs": [],
   "source": [
    "ExploreIsland(0,20,20,neighbors=[])"
   ]
  },
  {
   "cell_type": "markdown",
   "metadata": {},
   "source": [
    "**Step 8)** Write a function FindIslands that reads the list LandCell_List and converts its to\n",
    "Island List as explained above. The idea for this step is to scan the list of land cells, and call\n",
    "repeatedly the ExploreIsland function."
   ]
  },
  {
   "cell_type": "code",
   "execution_count": null,
   "metadata": {},
   "outputs": [],
   "source": []
  },
  {
   "cell_type": "code",
   "execution_count": null,
   "metadata": {},
   "outputs": [],
   "source": []
  },
  {
   "cell_type": "code",
   "execution_count": 651,
   "metadata": {},
   "outputs": [],
   "source": []
  },
  {
   "cell_type": "code",
   "execution_count": 653,
   "metadata": {},
   "outputs": [],
   "source": [
    "def FindIslands(LandCell_List=list,neighbors=[]):\n",
    "    Island_List = []\n",
    "    island = []\n",
    "    checked = []\n",
    "    for i in LandCell_List.keys():\n",
    "        #print(i)\n",
    "        if i not in island:\n",
    "        \n",
    "            island = ExploreIsland(i,20,20,neighbors=[])\n",
    "\n",
    "            #print(island)\n",
    "        \n",
    "       \n",
    "            if island is None:\n",
    "                Island_List.append([i])\n",
    "        \n",
    "            if island is not None:\n",
    "                island.sort()\n",
    "                if island not in Island_List:\n",
    "                    Island_List.append(island)\n",
    "    return Island_List"
   ]
  },
  {
   "cell_type": "code",
   "execution_count": null,
   "metadata": {},
   "outputs": [],
   "source": []
  }
 ],
 "metadata": {
  "kernelspec": {
   "display_name": "Python 3",
   "language": "python",
   "name": "python3"
  },
  "language_info": {
   "codemirror_mode": {
    "name": "ipython",
    "version": 3
   },
   "file_extension": ".py",
   "mimetype": "text/x-python",
   "name": "python",
   "nbconvert_exporter": "python",
   "pygments_lexer": "ipython3",
   "version": "3.7.6"
  }
 },
 "nbformat": 4,
 "nbformat_minor": 4
}
